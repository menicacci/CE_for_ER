{
  "nbformat": 4,
  "nbformat_minor": 0,
  "metadata": {
    "colab": {
      "provenance": [],
      "gpuType": "T4",
      "authorship_tag": "ABX9TyOVAbpkdzLF9XfjJRrmcNVr",
      "include_colab_link": true
    },
    "kernelspec": {
      "name": "python3",
      "display_name": "Python 3"
    },
    "language_info": {
      "name": "python"
    },
    "accelerator": "GPU"
  },
  "cells": [
    {
      "cell_type": "markdown",
      "metadata": {
        "id": "view-in-github",
        "colab_type": "text"
      },
      "source": [
        "<a href=\"https://colab.research.google.com/github/menicacci/CE_for_ER/blob/main/Ditto_with_CE.ipynb\" target=\"_parent\"><img src=\"https://colab.research.google.com/assets/colab-badge.svg\" alt=\"Open In Colab\"/></a>"
      ]
    },
    {
      "cell_type": "code",
      "execution_count": null,
      "metadata": {
        "id": "nWX_43Qt2pWL"
      },
      "outputs": [],
      "source": [
        "# Ditto set up\n",
        "\n",
        "# clone the repo\n",
        "!git clone https://github.com/megagonlabs/ditto\n",
        "%cd ditto/\n",
        "!git pull\n",
        "\n",
        "# install requirements\n",
        "!pip install -r requirements.txt\n",
        "\n",
        "!pip install transformers\n",
        "!pip install tensorboardX\n",
        "\n",
        "%cd ..\n",
        "\n",
        "# support for the model\n",
        "\n",
        "import nltk\n",
        "nltk.download('stopwords')\n",
        "\n",
        "!git clone https://github.com/NVIDIA/apex\n",
        "%cd apex\n",
        "!python setup.py install\n",
        "%cd ..\n",
        "\n",
        "!pip install --upgrade \"urllib3==1.25.4\" awscli\n",
        "!pip install jsonlines\n",
        "\n",
        "%cd ditto"
      ]
    },
    {
      "cell_type": "code",
      "source": [
        "import subprocess\n",
        "import sys\n",
        "import re\n",
        "\n",
        "def run(command):\n",
        "  try:\n",
        "    return subprocess.run(command, capture_output=True, text=True, check=True)\n",
        "  except subprocess.CalledProcessError as e:\n",
        "    print(f\"ERROR\\n\\n{e.stderr}\")\n",
        "    sys.exit(file=None)\n",
        "\n",
        "def get_f1_score(output):\n",
        "  f1 = re.search(r'real_f1 = (\\d+\\.\\d+)', output)\n",
        "  return float(f1.group(1)) if f1 else False"
      ],
      "metadata": {
        "id": "Nm6jpM0VuKDi"
      },
      "execution_count": 2,
      "outputs": []
    },
    {
      "cell_type": "code",
      "source": [
        "lm = 'distilbert'\n",
        "dataset = 'Structured/Fodors-Zagats'"
      ],
      "metadata": {
        "id": "4IDAEgxd2y42"
      },
      "execution_count": 3,
      "outputs": []
    },
    {
      "cell_type": "code",
      "source": [
        "# command for training Ditto\n",
        "training = [\n",
        "    'python', 'train_ditto.py',\n",
        "    '--task', dataset,\n",
        "    '--batch_size', '32',\n",
        "    '--max_len', '64',\n",
        "    '--lr', '3e-5',\n",
        "    '--n_epochs', '20',\n",
        "    '--finetuning',\n",
        "    '--lm', lm,\n",
        "    '--fp16',\n",
        "    '--save_model',\n",
        "    '--logdir', f'model/{lm}/'\n",
        "\n",
        "]\n",
        "\n",
        "# command for testing Ditto\n",
        "testing = [\n",
        "    'python', 'matcher.py',\n",
        "    '--task', dataset,\n",
        "    '--input_path', f\"data/er_magellan/{dataset}/test.txt\",\n",
        "    '--output_path', \"output/output_small.jsonl\",\n",
        "    '--lm', lm,\n",
        "    '--max_len', '64',\n",
        "    '--use_gpu',\n",
        "    '--fp16',\n",
        "    '--checkpoint_path', f'model/{lm}'\n",
        "]"
      ],
      "metadata": {
        "id": "hc-NL4-Z4e7p"
      },
      "execution_count": 4,
      "outputs": []
    },
    {
      "cell_type": "code",
      "source": [
        "# training without CE\n",
        "standard_training = run(training)\n",
        "\n",
        "# testing\n",
        "testing_1 = run(testing)\n",
        "results_1 = get_f1_score(testing_1.stdout)"
      ],
      "metadata": {
        "id": "K05hzMigzLbj"
      },
      "execution_count": 5,
      "outputs": []
    },
    {
      "cell_type": "code",
      "source": [
        "%cd .."
      ],
      "metadata": {
        "id": "Z-9n5j5u6JPL"
      },
      "execution_count": null,
      "outputs": []
    },
    {
      "cell_type": "code",
      "source": [
        "# Certa set-up\n",
        "\n",
        "!git clone https://github.com/tteofili/certa.git\n",
        "%cd certa\n",
        "!git pull\n",
        "!pip install .\n",
        "\n",
        "import pandas as pd\n",
        "from certa.explain import CertaExplainer\n",
        "from certa.utils import merge_sources\n",
        "from certa.models.ditto.ditto import DittoModel\n",
        "\n",
        "%cd .."
      ],
      "metadata": {
        "id": "dGXwa_5s55Fh"
      },
      "execution_count": null,
      "outputs": []
    },
    {
      "cell_type": "code",
      "source": [
        "# load dataset\n",
        "\n",
        "datadir = 'https://pages.cs.wisc.edu/~anhai/data1/deepmatcher_data/' + dataset + '/exp_data'\n",
        "\n",
        "lsource = pd.read_csv(datadir + '/tableA.csv')\n",
        "rsource = pd.read_csv(datadir + '/tableB.csv')\n",
        "gt = pd.read_csv(datadir + '/train.csv')\n",
        "valid = pd.read_csv(datadir + '/valid.csv')\n",
        "test = pd.read_csv(datadir + '/test.csv')\n",
        "\n",
        "valid_df = merge_sources(valid, 'ltable_', 'rtable_', lsource, rsource, ['label'], [])\n",
        "train_df = merge_sources(gt, 'ltable_', 'rtable_', lsource, rsource, ['label'],[])"
      ],
      "metadata": {
        "id": "DZ42JffF6NKx"
      },
      "execution_count": null,
      "outputs": []
    },
    {
      "cell_type": "code",
      "source": [
        "# load model\n",
        "import torch\n",
        "pt_model_dict = torch.load('ditto/model/' + lm + '/' + dataset + '/model.pt')"
      ],
      "metadata": {
        "id": "BmylZAyn6dhM"
      },
      "execution_count": 9,
      "outputs": []
    },
    {
      "cell_type": "code",
      "source": [
        "ditto_model = DittoModel(lm=lm, device='cpu')\n",
        "ditto_model.load_state_dict(pt_model_dict['model'])"
      ],
      "metadata": {
        "colab": {
          "base_uri": "https://localhost:8080/"
        },
        "id": "I9knT9So6kW3",
        "outputId": "6a1ad747-a5d8-47a5-9369-c83801bba350"
      },
      "execution_count": 10,
      "outputs": [
        {
          "output_type": "execute_result",
          "data": {
            "text/plain": [
              "<All keys matched successfully>"
            ]
          },
          "metadata": {},
          "execution_count": 10
        }
      ]
    },
    {
      "cell_type": "code",
      "source": [
        "from certa.models.ditto.summarize import Summarizer\n",
        "summarizer = Summarizer(lsource, rsource, lm)\n",
        "\n",
        "certa_explainer = CertaExplainer(lsource, rsource, data_augmentation=None)\n",
        "\n",
        "from certa.models.bert import EMTERModel\n",
        "model = EMTERModel(ditto=True, summarizer=summarizer, dk='')\n",
        "\n",
        "model.model = ditto_model"
      ],
      "metadata": {
        "id": "1my67MQs6qiX"
      },
      "execution_count": 11,
      "outputs": []
    },
    {
      "cell_type": "code",
      "source": [
        "def predict_fn(x):\n",
        "    return model.predict(x, len=64)\n",
        "\n",
        "predictions = predict_fn(train_df)"
      ],
      "metadata": {
        "id": "yD4DkC9R604H"
      },
      "execution_count": 12,
      "outputs": []
    },
    {
      "cell_type": "code",
      "source": [
        "# convert .csv into Ditto string format\n",
        "\n",
        "def to_string(r1, r2, l):\n",
        "    content = ''\n",
        "    for ent in [r1, r2]:\n",
        "        if isinstance(ent, str):\n",
        "            content += ent\n",
        "        else:\n",
        "            for attr in ent.keys():\n",
        "                content += 'COL %s VAL %s ' % (attr, ent[attr])\n",
        "        content += '\\t'\n",
        "\n",
        "    content += str(l) + '\\n'\n",
        "    return content\n",
        "\n",
        "def clean_cols(r):\n",
        "    return r.replace('ltable_','').replace('rtable_','')\n",
        "\n",
        "def get_record(r1, r2, l):\n",
        "    return clean_cols(to_string(r1,r2, l))"
      ],
      "metadata": {
        "id": "Nf471xt265aC"
      },
      "execution_count": 13,
      "outputs": []
    },
    {
      "cell_type": "code",
      "source": [
        "# returns a .csv containing all wrong predictions from the predictions parameter\n",
        "def get_wrong_preds(predictions):\n",
        "    false_positives = predictions.loc[(predictions['label'] == 0) & (predictions['match_score'] > 0.5)]\n",
        "    false_negatives = predictions.loc[(predictions['label'] == 1) & (predictions['match_score'] < 0.5)]\n",
        "\n",
        "    print('# of false positives: ' + str(len(false_positives)))\n",
        "    print('# of false negatives: ' + str(len(false_negatives)))\n",
        "\n",
        "    return pd.concat([false_positives, false_negatives])"
      ],
      "metadata": {
        "id": "bJQ9wzzF73DA"
      },
      "execution_count": 14,
      "outputs": []
    },
    {
      "cell_type": "code",
      "source": [
        "# filters a row into two tuples\n",
        "def get_tuples(rand_row):\n",
        "    l_id = int(rand_row['ltable_id'])\n",
        "    l_tuple = lsource.iloc[l_id]\n",
        "    r_id = int(rand_row['rtable_id'])\n",
        "    r_tuple = rsource.iloc[r_id]\n",
        "    return l_tuple, r_tuple\n",
        "\n",
        "# returns a .csv containing counterfactual explanations for wrong_pred\n",
        "def get_counterfactual_explanations(certa_exp, predict_fn, wrong_pred):\n",
        "    l_tuple, r_tuple = get_tuples(wrong_pred)\n",
        "    _, _, ce, _, _ = certa_exp.explain(l_tuple, r_tuple, predict_fn, num_triangles=10)\n",
        "\n",
        "    return ce\n",
        "\n",
        "# filters a record\n",
        "def get_explanation(ex):\n",
        "    l_tuple = ex.filter(regex='^ltable_').to_dict()\n",
        "    r_tuple = ex.filter(regex='^rtable_').to_dict()\n",
        "\n",
        "    l = int( (float(ex.filter(regex='^match_'))) > (float(ex.filter(regex='^nomatch_'))) )\n",
        "    return l_tuple, r_tuple, l"
      ],
      "metadata": {
        "id": "PIIiUv0X8PjM"
      },
      "execution_count": 15,
      "outputs": []
    },
    {
      "cell_type": "code",
      "source": [
        "# returns a string containing new records (counterfactual explanations).\n",
        "# n is the number of explanations per wrong prediction record\n",
        "def get_records(c_exp, predict_fn, wrong_preds, n):\n",
        "    output = ''\n",
        "\n",
        "    for i in range(len(wrong_preds)):\n",
        "        # counterfactual explanations in .csv format\n",
        "        explanations = get_counterfactual_explanations(c_exp, predict_fn, wrong_preds.iloc[i])\n",
        "\n",
        "        n_expl = min(n, len(explanations))\n",
        "        for j in range(n_expl):\n",
        "            # left and right tuple in .csv format + label (int)\n",
        "            l_tuple, r_tuple, label = get_explanation(explanations[:n_expl].iloc[j])\n",
        "            # convers parameters to string\n",
        "            record = get_record(l_tuple, r_tuple, label)\n",
        "\n",
        "            print('Record: ' + str(j))\n",
        "            print(record)\n",
        "            # updates output\n",
        "            output += record\n",
        "\n",
        "    return output"
      ],
      "metadata": {
        "id": "jj0YWP0Q8f40"
      },
      "execution_count": 16,
      "outputs": []
    },
    {
      "cell_type": "code",
      "source": [
        "wrong_preds = get_wrong_preds(predictions)\n",
        "wrong_preds.head()"
      ],
      "metadata": {
        "id": "wUXVpX3D94kK",
        "colab": {
          "base_uri": "https://localhost:8080/",
          "height": 243
        },
        "outputId": "57b8d928-16b7-4c01-a99f-d2ac2297e24d"
      },
      "execution_count": 17,
      "outputs": [
        {
          "output_type": "stream",
          "name": "stdout",
          "text": [
            "# of false positives: 2\n",
            "# of false negatives: 0\n"
          ]
        },
        {
          "output_type": "execute_result",
          "data": {
            "text/plain": [
              "    label                            ltable_name             ltable_addr  \\\n",
              "231     0    ` restaurant ritz-carlton atlanta '   ' 181 peachtree st. '   \n",
              "550     0  ` dining room ritz-carlton buckhead '  ' 3434 peachtree rd. '   \n",
              "\n",
              "    ltable_city   ltable_phone    ltable_type  ltable_class  \\\n",
              "231     atlanta  404/659 -0400    continental          91.0   \n",
              "550     atlanta  404/237 -2700  international          90.0   \n",
              "\n",
              "                            rtable_name                rtable_addr  \\\n",
              "231   ` ritz-carlton cafe ( atlanta ) '      ' 181 peachtree st. '   \n",
              "550  ` ritz-carlton cafe ( buckhead ) '  ' 3434 peachtree rd. ne '   \n",
              "\n",
              "    rtable_city  rtable_phone           rtable_type  rtable_class  \\\n",
              "231     atlanta  404-659-0400  ` american ( new ) '         711.0   \n",
              "550     atlanta  404-237-2700  ` american ( new ) '          89.0   \n",
              "\n",
              "     match_score  nomatch_score  ltable_id  rtable_id  \n",
              "231     0.849613       0.150387       91.0      330.0  \n",
              "550     0.634264       0.365736       90.0      307.0  "
            ],
            "text/html": [
              "\n",
              "\n",
              "  <div id=\"df-2b6a7062-2224-40ba-92d4-de228e65d5b0\">\n",
              "    <div class=\"colab-df-container\">\n",
              "      <div>\n",
              "<style scoped>\n",
              "    .dataframe tbody tr th:only-of-type {\n",
              "        vertical-align: middle;\n",
              "    }\n",
              "\n",
              "    .dataframe tbody tr th {\n",
              "        vertical-align: top;\n",
              "    }\n",
              "\n",
              "    .dataframe thead th {\n",
              "        text-align: right;\n",
              "    }\n",
              "</style>\n",
              "<table border=\"1\" class=\"dataframe\">\n",
              "  <thead>\n",
              "    <tr style=\"text-align: right;\">\n",
              "      <th></th>\n",
              "      <th>label</th>\n",
              "      <th>ltable_name</th>\n",
              "      <th>ltable_addr</th>\n",
              "      <th>ltable_city</th>\n",
              "      <th>ltable_phone</th>\n",
              "      <th>ltable_type</th>\n",
              "      <th>ltable_class</th>\n",
              "      <th>rtable_name</th>\n",
              "      <th>rtable_addr</th>\n",
              "      <th>rtable_city</th>\n",
              "      <th>rtable_phone</th>\n",
              "      <th>rtable_type</th>\n",
              "      <th>rtable_class</th>\n",
              "      <th>match_score</th>\n",
              "      <th>nomatch_score</th>\n",
              "      <th>ltable_id</th>\n",
              "      <th>rtable_id</th>\n",
              "    </tr>\n",
              "  </thead>\n",
              "  <tbody>\n",
              "    <tr>\n",
              "      <th>231</th>\n",
              "      <td>0</td>\n",
              "      <td>` restaurant ritz-carlton atlanta '</td>\n",
              "      <td>' 181 peachtree st. '</td>\n",
              "      <td>atlanta</td>\n",
              "      <td>404/659 -0400</td>\n",
              "      <td>continental</td>\n",
              "      <td>91.0</td>\n",
              "      <td>` ritz-carlton cafe ( atlanta ) '</td>\n",
              "      <td>' 181 peachtree st. '</td>\n",
              "      <td>atlanta</td>\n",
              "      <td>404-659-0400</td>\n",
              "      <td>` american ( new ) '</td>\n",
              "      <td>711.0</td>\n",
              "      <td>0.849613</td>\n",
              "      <td>0.150387</td>\n",
              "      <td>91.0</td>\n",
              "      <td>330.0</td>\n",
              "    </tr>\n",
              "    <tr>\n",
              "      <th>550</th>\n",
              "      <td>0</td>\n",
              "      <td>` dining room ritz-carlton buckhead '</td>\n",
              "      <td>' 3434 peachtree rd. '</td>\n",
              "      <td>atlanta</td>\n",
              "      <td>404/237 -2700</td>\n",
              "      <td>international</td>\n",
              "      <td>90.0</td>\n",
              "      <td>` ritz-carlton cafe ( buckhead ) '</td>\n",
              "      <td>' 3434 peachtree rd. ne '</td>\n",
              "      <td>atlanta</td>\n",
              "      <td>404-237-2700</td>\n",
              "      <td>` american ( new ) '</td>\n",
              "      <td>89.0</td>\n",
              "      <td>0.634264</td>\n",
              "      <td>0.365736</td>\n",
              "      <td>90.0</td>\n",
              "      <td>307.0</td>\n",
              "    </tr>\n",
              "  </tbody>\n",
              "</table>\n",
              "</div>\n",
              "      <button class=\"colab-df-convert\" onclick=\"convertToInteractive('df-2b6a7062-2224-40ba-92d4-de228e65d5b0')\"\n",
              "              title=\"Convert this dataframe to an interactive table.\"\n",
              "              style=\"display:none;\">\n",
              "\n",
              "  <svg xmlns=\"http://www.w3.org/2000/svg\" height=\"24px\"viewBox=\"0 0 24 24\"\n",
              "       width=\"24px\">\n",
              "    <path d=\"M0 0h24v24H0V0z\" fill=\"none\"/>\n",
              "    <path d=\"M18.56 5.44l.94 2.06.94-2.06 2.06-.94-2.06-.94-.94-2.06-.94 2.06-2.06.94zm-11 1L8.5 8.5l.94-2.06 2.06-.94-2.06-.94L8.5 2.5l-.94 2.06-2.06.94zm10 10l.94 2.06.94-2.06 2.06-.94-2.06-.94-.94-2.06-.94 2.06-2.06.94z\"/><path d=\"M17.41 7.96l-1.37-1.37c-.4-.4-.92-.59-1.43-.59-.52 0-1.04.2-1.43.59L10.3 9.45l-7.72 7.72c-.78.78-.78 2.05 0 2.83L4 21.41c.39.39.9.59 1.41.59.51 0 1.02-.2 1.41-.59l7.78-7.78 2.81-2.81c.8-.78.8-2.07 0-2.86zM5.41 20L4 18.59l7.72-7.72 1.47 1.35L5.41 20z\"/>\n",
              "  </svg>\n",
              "      </button>\n",
              "\n",
              "\n",
              "\n",
              "    <div id=\"df-d25b2432-65df-4b50-b00f-e5ef9dd97373\">\n",
              "      <button class=\"colab-df-quickchart\" onclick=\"quickchart('df-d25b2432-65df-4b50-b00f-e5ef9dd97373')\"\n",
              "              title=\"Suggest charts.\"\n",
              "              style=\"display:none;\">\n",
              "\n",
              "<svg xmlns=\"http://www.w3.org/2000/svg\" height=\"24px\"viewBox=\"0 0 24 24\"\n",
              "     width=\"24px\">\n",
              "    <g>\n",
              "        <path d=\"M19 3H5c-1.1 0-2 .9-2 2v14c0 1.1.9 2 2 2h14c1.1 0 2-.9 2-2V5c0-1.1-.9-2-2-2zM9 17H7v-7h2v7zm4 0h-2V7h2v10zm4 0h-2v-4h2v4z\"/>\n",
              "    </g>\n",
              "</svg>\n",
              "      </button>\n",
              "    </div>\n",
              "\n",
              "<style>\n",
              "  .colab-df-quickchart {\n",
              "    background-color: #E8F0FE;\n",
              "    border: none;\n",
              "    border-radius: 50%;\n",
              "    cursor: pointer;\n",
              "    display: none;\n",
              "    fill: #1967D2;\n",
              "    height: 32px;\n",
              "    padding: 0 0 0 0;\n",
              "    width: 32px;\n",
              "  }\n",
              "\n",
              "  .colab-df-quickchart:hover {\n",
              "    background-color: #E2EBFA;\n",
              "    box-shadow: 0px 1px 2px rgba(60, 64, 67, 0.3), 0px 1px 3px 1px rgba(60, 64, 67, 0.15);\n",
              "    fill: #174EA6;\n",
              "  }\n",
              "\n",
              "  [theme=dark] .colab-df-quickchart {\n",
              "    background-color: #3B4455;\n",
              "    fill: #D2E3FC;\n",
              "  }\n",
              "\n",
              "  [theme=dark] .colab-df-quickchart:hover {\n",
              "    background-color: #434B5C;\n",
              "    box-shadow: 0px 1px 3px 1px rgba(0, 0, 0, 0.15);\n",
              "    filter: drop-shadow(0px 1px 2px rgba(0, 0, 0, 0.3));\n",
              "    fill: #FFFFFF;\n",
              "  }\n",
              "</style>\n",
              "\n",
              "    <script>\n",
              "      async function quickchart(key) {\n",
              "        const containerElement = document.querySelector('#' + key);\n",
              "        const charts = await google.colab.kernel.invokeFunction(\n",
              "            'suggestCharts', [key], {});\n",
              "      }\n",
              "    </script>\n",
              "\n",
              "      <script>\n",
              "\n",
              "function displayQuickchartButton(domScope) {\n",
              "  let quickchartButtonEl =\n",
              "    domScope.querySelector('#df-d25b2432-65df-4b50-b00f-e5ef9dd97373 button.colab-df-quickchart');\n",
              "  quickchartButtonEl.style.display =\n",
              "    google.colab.kernel.accessAllowed ? 'block' : 'none';\n",
              "}\n",
              "\n",
              "        displayQuickchartButton(document);\n",
              "      </script>\n",
              "      <style>\n",
              "    .colab-df-container {\n",
              "      display:flex;\n",
              "      flex-wrap:wrap;\n",
              "      gap: 12px;\n",
              "    }\n",
              "\n",
              "    .colab-df-convert {\n",
              "      background-color: #E8F0FE;\n",
              "      border: none;\n",
              "      border-radius: 50%;\n",
              "      cursor: pointer;\n",
              "      display: none;\n",
              "      fill: #1967D2;\n",
              "      height: 32px;\n",
              "      padding: 0 0 0 0;\n",
              "      width: 32px;\n",
              "    }\n",
              "\n",
              "    .colab-df-convert:hover {\n",
              "      background-color: #E2EBFA;\n",
              "      box-shadow: 0px 1px 2px rgba(60, 64, 67, 0.3), 0px 1px 3px 1px rgba(60, 64, 67, 0.15);\n",
              "      fill: #174EA6;\n",
              "    }\n",
              "\n",
              "    [theme=dark] .colab-df-convert {\n",
              "      background-color: #3B4455;\n",
              "      fill: #D2E3FC;\n",
              "    }\n",
              "\n",
              "    [theme=dark] .colab-df-convert:hover {\n",
              "      background-color: #434B5C;\n",
              "      box-shadow: 0px 1px 3px 1px rgba(0, 0, 0, 0.15);\n",
              "      filter: drop-shadow(0px 1px 2px rgba(0, 0, 0, 0.3));\n",
              "      fill: #FFFFFF;\n",
              "    }\n",
              "  </style>\n",
              "\n",
              "      <script>\n",
              "        const buttonEl =\n",
              "          document.querySelector('#df-2b6a7062-2224-40ba-92d4-de228e65d5b0 button.colab-df-convert');\n",
              "        buttonEl.style.display =\n",
              "          google.colab.kernel.accessAllowed ? 'block' : 'none';\n",
              "\n",
              "        async function convertToInteractive(key) {\n",
              "          const element = document.querySelector('#df-2b6a7062-2224-40ba-92d4-de228e65d5b0');\n",
              "          const dataTable =\n",
              "            await google.colab.kernel.invokeFunction('convertToInteractive',\n",
              "                                                     [key], {});\n",
              "          if (!dataTable) return;\n",
              "\n",
              "          const docLinkHtml = 'Like what you see? Visit the ' +\n",
              "            '<a target=\"_blank\" href=https://colab.research.google.com/notebooks/data_table.ipynb>data table notebook</a>'\n",
              "            + ' to learn more about interactive tables.';\n",
              "          element.innerHTML = '';\n",
              "          dataTable['output_type'] = 'display_data';\n",
              "          await google.colab.output.renderOutput(dataTable, element);\n",
              "          const docLink = document.createElement('div');\n",
              "          docLink.innerHTML = docLinkHtml;\n",
              "          element.appendChild(docLink);\n",
              "        }\n",
              "      </script>\n",
              "    </div>\n",
              "  </div>\n"
            ]
          },
          "metadata": {},
          "execution_count": 17
        }
      ]
    },
    {
      "cell_type": "code",
      "source": [
        "new_records = get_records(certa_explainer, predict_fn, wrong_preds, 2)"
      ],
      "metadata": {
        "id": "Ix-q5LN396z6",
        "colab": {
          "base_uri": "https://localhost:8080/"
        },
        "outputId": "213e72f7-b40f-43b4-f1f9-f0eeab09b5d5"
      },
      "execution_count": 18,
      "outputs": [
        {
          "output_type": "stream",
          "name": "stderr",
          "text": [
            "/content/certa/certa/local_explain.py:87: FutureWarning: The frame.append method is deprecated and will be removed from pandas in a future version. Use pandas.concat instead.\n",
            "  records = records.append([record] * len(source), ignore_index=True)\n",
            "/content/certa/certa/local_explain.py:97: FutureWarning: The frame.append method is deprecated and will be removed from pandas in a future version. Use pandas.concat instead.\n",
            "  records = records.append([record] * len(source), ignore_index=True)\n"
          ]
        },
        {
          "output_type": "stream",
          "name": "stdout",
          "text": [
            "Record: 0\n",
            "COL name VAL ` il fornaio cucina italiana ' COL addr VAL ' 181 peachtree st. ' COL city VAL atlanta COL phone VAL 404/659 -0400 COL type VAL continental COL class VAL 91 \tCOL name VAL ` ritz-carlton cafe ( atlanta ) ' COL addr VAL ' 181 peachtree st. ' COL city VAL atlanta COL phone VAL 404-659-0400 COL type VAL ` american ( new ) ' COL class VAL 711 \t0\n",
            "\n",
            "Record: 1\n",
            "COL name VAL ` restaurant ritz-carlton atlanta ' COL addr VAL ' 11705 national blvd. ' COL city VAL atlanta COL phone VAL 404/659 -0400 COL type VAL continental COL class VAL 91 \tCOL name VAL ` ritz-carlton cafe ( atlanta ) ' COL addr VAL ' 181 peachtree st. ' COL city VAL atlanta COL phone VAL 404-659-0400 COL type VAL ` american ( new ) ' COL class VAL 711 \t0\n",
            "\n"
          ]
        },
        {
          "output_type": "stream",
          "name": "stderr",
          "text": [
            "/content/certa/certa/local_explain.py:87: FutureWarning: The frame.append method is deprecated and will be removed from pandas in a future version. Use pandas.concat instead.\n",
            "  records = records.append([record] * len(source), ignore_index=True)\n",
            "/content/certa/certa/local_explain.py:97: FutureWarning: The frame.append method is deprecated and will be removed from pandas in a future version. Use pandas.concat instead.\n",
            "  records = records.append([record] * len(source), ignore_index=True)\n"
          ]
        },
        {
          "output_type": "stream",
          "name": "stdout",
          "text": [
            "Record: 0\n",
            "COL name VAL ` alain rondelli ' COL addr VAL ' 3434 peachtree rd. ' COL city VAL atlanta COL phone VAL 404/237 -2700 COL type VAL international COL class VAL 90 \tCOL name VAL ` ritz-carlton cafe ( buckhead ) ' COL addr VAL ' 3434 peachtree rd. ne ' COL city VAL atlanta COL phone VAL 404-237-2700 COL type VAL ` american ( new ) ' COL class VAL 89 \t0\n",
            "\n",
            "Record: 1\n",
            "COL name VAL ` dining room ritz-carlton buckhead ' COL addr VAL ' 3434 peachtree rd. ' COL city VAL atlanta COL phone VAL 213/658 -6340 COL type VAL international COL class VAL 90 \tCOL name VAL ` ritz-carlton cafe ( buckhead ) ' COL addr VAL ' 3434 peachtree rd. ne ' COL city VAL atlanta COL phone VAL 404-237-2700 COL type VAL ` american ( new ) ' COL class VAL 89 \t0\n",
            "\n"
          ]
        }
      ]
    },
    {
      "cell_type": "code",
      "source": [
        "# adding the CE to the training set\n",
        "training_dir = 'ditto/data/er_magellan/' + dataset + '/train.txt'\n",
        "\n",
        "training_set = open(training_dir, \"a\", encoding=\"utf8\")\n",
        "training_set.write(new_records)\n",
        "training_set.seek(0,0)\n",
        "training_set.close()"
      ],
      "metadata": {
        "id": "ddS7K0fF9-VF"
      },
      "execution_count": 19,
      "outputs": []
    },
    {
      "cell_type": "code",
      "source": [
        "%cd ditto"
      ],
      "metadata": {
        "id": "Wqzvldd--X5v"
      },
      "execution_count": null,
      "outputs": []
    },
    {
      "cell_type": "code",
      "source": [
        "# training with CE\n",
        "ce_training = run(training)\n",
        "\n",
        "# testing\n",
        "testing_2 = run(testing)\n",
        "results_2 = get_f1_score(testing_2.stdout)"
      ],
      "metadata": {
        "id": "gOB6PX__-Z3O"
      },
      "execution_count": 21,
      "outputs": []
    },
    {
      "cell_type": "code",
      "source": [
        "print(f\"F1 score with standard training: \\t\\t{round(results_1, 3)}\")\n",
        "print(f\"F1 score with counterfactual explanations: \\t{round(results_2, 3)}\")"
      ],
      "metadata": {
        "id": "2fNuuSnrDLQb",
        "colab": {
          "base_uri": "https://localhost:8080/"
        },
        "outputId": "90bc7b91-cc06-40c3-fdda-c9a720da5942"
      },
      "execution_count": 22,
      "outputs": [
        {
          "output_type": "stream",
          "name": "stdout",
          "text": [
            "F1 score with standard training: \t\t0.955\n",
            "F1 score with counterfactual explanations: \t0.978\n"
          ]
        }
      ]
    }
  ]
}